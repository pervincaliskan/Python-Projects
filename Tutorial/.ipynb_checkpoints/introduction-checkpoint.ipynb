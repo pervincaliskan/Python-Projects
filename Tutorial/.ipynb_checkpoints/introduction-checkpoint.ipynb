{
 "cells": [
  {
   "cell_type": "code",
   "execution_count": 1,
   "id": "9534c4ce",
   "metadata": {},
   "outputs": [
    {
     "name": "stdout",
     "output_type": "stream",
     "text": [
      "Selamlar ben Pervin\n"
     ]
    }
   ],
   "source": [
    "print('Selamlar ben Pervin')"
   ]
  },
  {
   "cell_type": "markdown",
   "id": "e1d4d165",
   "metadata": {},
   "source": [
    "Ödev var dediler geldim.\n"
   ]
  },
  {
   "cell_type": "code",
   "execution_count": 2,
   "id": "aa171003",
   "metadata": {},
   "outputs": [],
   "source": [
    "listem = ['a','b','c']"
   ]
  },
  {
   "cell_type": "code",
   "execution_count": 4,
   "id": "eb2c6354",
   "metadata": {},
   "outputs": [],
   "source": [
    "listem.append('d')"
   ]
  },
  {
   "cell_type": "code",
   "execution_count": 5,
   "id": "c3f1f3d4",
   "metadata": {},
   "outputs": [
    {
     "data": {
      "text/plain": [
       "['a', 'b', 'c', 'd']"
      ]
     },
     "execution_count": 5,
     "metadata": {},
     "output_type": "execute_result"
    }
   ],
   "source": [
    "listem"
   ]
  },
  {
   "cell_type": "code",
   "execution_count": 6,
   "id": "39e17b19",
   "metadata": {},
   "outputs": [],
   "source": [
    "d = {'a1': 'deger','a2': 333} #sözlükler süslü parantez içerisinde tanımlanır"
   ]
  },
  {
   "cell_type": "code",
   "execution_count": 7,
   "id": "81bee4ec",
   "metadata": {},
   "outputs": [
    {
     "data": {
      "text/plain": [
       "333"
      ]
     },
     "execution_count": 7,
     "metadata": {},
     "output_type": "execute_result"
    }
   ],
   "source": [
    "d['a2']"
   ]
  },
  {
   "cell_type": "code",
   "execution_count": 8,
   "id": "04f9a5a4",
   "metadata": {},
   "outputs": [],
   "source": [
    "d ={ 'a1' : [1,2,3]} # sözlük içersinde bir liste tutabiliriz"
   ]
  },
  {
   "cell_type": "code",
   "execution_count": 9,
   "id": "daaa784f",
   "metadata": {},
   "outputs": [
    {
     "data": {
      "text/plain": [
       "1"
      ]
     },
     "execution_count": 9,
     "metadata": {},
     "output_type": "execute_result"
    }
   ],
   "source": [
    "d['a1'][0]# sözlük içerisindeki elemana ulaşabiliriz"
   ]
  },
  {
   "cell_type": "code",
   "execution_count": 10,
   "id": "fd625ab0",
   "metadata": {},
   "outputs": [],
   "source": [
    "d = {'a1' : { 'a2': [1,2,3]}} #sözlül içerisinde sözlük olusturabiliriz"
   ]
  },
  {
   "cell_type": "code",
   "execution_count": 11,
   "id": "4ff83bdc",
   "metadata": {},
   "outputs": [
    {
     "data": {
      "text/plain": [
       "[1, 2, 3]"
      ]
     },
     "execution_count": 11,
     "metadata": {},
     "output_type": "execute_result"
    }
   ],
   "source": [
    "d['a1']['a2']"
   ]
  },
  {
   "cell_type": "code",
   "execution_count": 12,
   "id": "84c8abb1",
   "metadata": {},
   "outputs": [
    {
     "data": {
      "text/plain": [
       "1"
      ]
     },
     "execution_count": 12,
     "metadata": {},
     "output_type": "execute_result"
    }
   ],
   "source": [
    "d['a1']['a2'][0]"
   ]
  },
  {
   "cell_type": "markdown",
   "id": "b394b493",
   "metadata": {},
   "source": [
    "liste ile tuple farkı -> Tuple aslında list veri yapısına benzer. List değişebilir(mutable) bir yapıya sahipken Tuple (immutable) ise değişemez "
   ]
  },
  {
   "cell_type": "code",
   "execution_count": 13,
   "id": "9b11e129",
   "metadata": {},
   "outputs": [],
   "source": [
    "t = (1,2,3)"
   ]
  },
  {
   "cell_type": "code",
   "execution_count": 14,
   "id": "ad072ff7",
   "metadata": {},
   "outputs": [
    {
     "data": {
      "text/plain": [
       "1"
      ]
     },
     "execution_count": 14,
     "metadata": {},
     "output_type": "execute_result"
    }
   ],
   "source": [
    "t[0]"
   ]
  },
  {
   "cell_type": "code",
   "execution_count": 16,
   "id": "f33b5bdd",
   "metadata": {},
   "outputs": [
    {
     "data": {
      "text/plain": [
       "{1, 2, 3}"
      ]
     },
     "execution_count": 16,
     "metadata": {},
     "output_type": "execute_result"
    }
   ],
   "source": [
    "set([1,1,1,2,2,2,3,3,3,3]) #Bir kümenin elemanlarını ekleyebilir ve silebilir, \n",
    "#kümenin elemanlarını yineleyebilir, kümelerdeki standart işlemleri gerçekleştirebilirsiniz (birlik, kesişme, fark)"
   ]
  },
  {
   "cell_type": "code",
   "execution_count": 17,
   "id": "8916384e",
   "metadata": {
    "scrolled": true
   },
   "outputs": [
    {
     "name": "stdout",
     "output_type": "stream",
     "text": [
      "1\n",
      "2\n",
      "3\n",
      "4\n",
      "5\n"
     ]
    }
   ],
   "source": [
    "liste = [1,2,3,4,5]\n",
    "for item in liste:\n",
    "    print(item)"
   ]
  },
  {
   "cell_type": "code",
   "execution_count": 25,
   "id": "3102a6ae",
   "metadata": {},
   "outputs": [
    {
     "data": {
      "text/plain": [
       "range(0, 10)"
      ]
     },
     "execution_count": 25,
     "metadata": {},
     "output_type": "execute_result"
    }
   ],
   "source": [
    "range (0,10)"
   ]
  },
  {
   "cell_type": "code",
   "execution_count": 33,
   "id": "e4934d99",
   "metadata": {},
   "outputs": [
    {
     "name": "stdout",
     "output_type": "stream",
     "text": [
      "0\n",
      "1\n",
      "2\n",
      "3\n",
      "4\n",
      "5\n",
      "6\n",
      "7\n",
      "8\n",
      "9\n"
     ]
    }
   ],
   "source": [
    "for x in range(0,10):\n",
    "  print(x)"
   ]
  },
  {
   "cell_type": "code",
   "execution_count": 35,
   "id": "4eb183cf",
   "metadata": {},
   "outputs": [
    {
     "name": "stdout",
     "output_type": "stream",
     "text": [
      "[0]\n",
      "[0, 1]\n",
      "[0, 1, 4]\n",
      "[0, 1, 4, 9]\n",
      "[0, 1, 4, 9, 16]\n",
      "[0, 1, 4, 9, 16, 25]\n",
      "[0, 1, 4, 9, 16, 25, 36]\n",
      "[0, 1, 4, 9, 16, 25, 36, 49]\n",
      "[0, 1, 4, 9, 16, 25, 36, 49, 64]\n",
      "[0, 1, 4, 9, 16, 25, 36, 49, 64, 81]\n",
      "[0, 1, 4, 9, 16, 25, 36, 49, 64, 81, 100]\n",
      "[0, 1, 4, 9, 16, 25, 36, 49, 64, 81, 100, 121]\n",
      "[0, 1, 4, 9, 16, 25, 36, 49, 64, 81, 100, 121, 144]\n",
      "[0, 1, 4, 9, 16, 25, 36, 49, 64, 81, 100, 121, 144, 169]\n",
      "[0, 1, 4, 9, 16, 25, 36, 49, 64, 81, 100, 121, 144, 169, 196]\n",
      "[0, 1, 4, 9, 16, 25, 36, 49, 64, 81, 100, 121, 144, 169, 196, 225]\n",
      "[0, 1, 4, 9, 16, 25, 36, 49, 64, 81, 100, 121, 144, 169, 196, 225, 256]\n",
      "[0, 1, 4, 9, 16, 25, 36, 49, 64, 81, 100, 121, 144, 169, 196, 225, 256, 289]\n",
      "[0, 1, 4, 9, 16, 25, 36, 49, 64, 81, 100, 121, 144, 169, 196, 225, 256, 289, 324]\n",
      "[0, 1, 4, 9, 16, 25, 36, 49, 64, 81, 100, 121, 144, 169, 196, 225, 256, 289, 324, 361]\n"
     ]
    }
   ],
   "source": [
    "out = []\n",
    "\n",
    "for x in range (20):\n",
    "    out.append(x**2)\n",
    "    \n",
    "    print(out)"
   ]
  },
  {
   "cell_type": "code",
   "execution_count": 36,
   "id": "6d6211c3",
   "metadata": {},
   "outputs": [
    {
     "ename": "SyntaxError",
     "evalue": "invalid syntax (3206312524.py, line 1)",
     "output_type": "error",
     "traceback": [
      "\u001b[1;36m  Cell \u001b[1;32mIn[36], line 1\u001b[1;36m\u001b[0m\n\u001b[1;33m    out = [ x**2 for x range (20) ]\u001b[0m\n\u001b[1;37m                       ^\u001b[0m\n\u001b[1;31mSyntaxError\u001b[0m\u001b[1;31m:\u001b[0m invalid syntax\n"
     ]
    }
   ],
   "source": [
    "out = [ x**2 for x range (20) ]\n"
   ]
  },
  {
   "cell_type": "code",
   "execution_count": 37,
   "id": "2e39969b",
   "metadata": {},
   "outputs": [
    {
     "name": "stdout",
     "output_type": "stream",
     "text": [
      "[0, 1, 4, 9, 16, 25, 36, 49, 64, 81, 100, 121, 144, 169, 196, 225, 256, 289, 324, 361]\n"
     ]
    }
   ],
   "source": [
    "print(out)"
   ]
  },
  {
   "cell_type": "code",
   "execution_count": 40,
   "id": "54843dec",
   "metadata": {},
   "outputs": [],
   "source": [
    "def fonk(param):\n",
    "   print('MERHABA ' +param)"
   ]
  },
  {
   "cell_type": "code",
   "execution_count": 41,
   "id": "89244aea",
   "metadata": {},
   "outputs": [
    {
     "name": "stdout",
     "output_type": "stream",
     "text": [
      "MERHABApervin\n"
     ]
    }
   ],
   "source": [
    "fonk(param='pervin')"
   ]
  },
  {
   "cell_type": "code",
   "execution_count": 50,
   "id": "5e200652",
   "metadata": {},
   "outputs": [],
   "source": [
    "def kare (x) :\n",
    "    \"\"\"\n",
    "    burası bir docstringdir\n",
    "    bu fonk aldığı parametrelerin karesini döndürür\n",
    "    \"\"\"\n",
    "    return x**2    \n"
   ]
  },
  {
   "cell_type": "code",
   "execution_count": 51,
   "id": "63b4fc8c",
   "metadata": {},
   "outputs": [
    {
     "data": {
      "text/plain": [
       "16"
      ]
     },
     "execution_count": 51,
     "metadata": {},
     "output_type": "execute_result"
    }
   ],
   "source": [
    "output = kare(4)\n",
    "output"
   ]
  },
  {
   "cell_type": "code",
   "execution_count": 52,
   "id": "6deb6df6",
   "metadata": {},
   "outputs": [],
   "source": [
    "liste = [1,2,3]\n"
   ]
  },
  {
   "cell_type": "code",
   "execution_count": 56,
   "id": "d2c32ffb",
   "metadata": {},
   "outputs": [
    {
     "ename": "SyntaxError",
     "evalue": "invalid syntax (1886930326.py, line 1)",
     "output_type": "error",
     "traceback": [
      "\u001b[1;36m  Cell \u001b[1;32mIn[56], line 1\u001b[1;36m\u001b[0m\n\u001b[1;33m    liste(map{kare,liste})\u001b[0m\n\u001b[1;37m             ^\u001b[0m\n\u001b[1;31mSyntaxError\u001b[0m\u001b[1;31m:\u001b[0m invalid syntax\n"
     ]
    }
   ],
   "source": [
    "liste(map{kare,liste})"
   ]
  },
  {
   "cell_type": "code",
   "execution_count": 5,
   "id": "b96a57fe",
   "metadata": {},
   "outputs": [],
   "source": [
    "import numpy as np\n"
   ]
  },
  {
   "cell_type": "code",
   "execution_count": 6,
   "id": "5480a0e9",
   "metadata": {},
   "outputs": [
    {
     "ename": "NameError",
     "evalue": "name 'liste' is not defined",
     "output_type": "error",
     "traceback": [
      "\u001b[1;31m---------------------------------------------------------------------------\u001b[0m",
      "\u001b[1;31mNameError\u001b[0m                                 Traceback (most recent call last)",
      "Cell \u001b[1;32mIn[6], line 1\u001b[0m\n\u001b[1;32m----> 1\u001b[0m np\u001b[38;5;241m.\u001b[39marray(\u001b[43mliste\u001b[49m)\n",
      "\u001b[1;31mNameError\u001b[0m: name 'liste' is not defined"
     ]
    }
   ],
   "source": [
    "np.array(liste)"
   ]
  },
  {
   "cell_type": "code",
   "execution_count": 7,
   "id": "d3911274",
   "metadata": {},
   "outputs": [],
   "source": [
    "mat = [[1,2,3], [6,7,8], [9,10,11]]"
   ]
  },
  {
   "cell_type": "code",
   "execution_count": 8,
   "id": "b7e4d49c",
   "metadata": {},
   "outputs": [
    {
     "data": {
      "text/plain": [
       "array([[ 1,  2,  3],\n",
       "       [ 6,  7,  8],\n",
       "       [ 9, 10, 11]])"
      ]
     },
     "execution_count": 8,
     "metadata": {},
     "output_type": "execute_result"
    }
   ],
   "source": [
    "np.array(mat)\n"
   ]
  },
  {
   "cell_type": "code",
   "execution_count": 9,
   "id": "5e5791dc",
   "metadata": {},
   "outputs": [
    {
     "data": {
      "text/plain": [
       "array([0, 1, 2, 3, 4, 5, 6, 7, 8, 9])"
      ]
     },
     "execution_count": 9,
     "metadata": {},
     "output_type": "execute_result"
    }
   ],
   "source": [
    "np.arange(0,10)"
   ]
  },
  {
   "cell_type": "code",
   "execution_count": 10,
   "id": "1eacda52",
   "metadata": {},
   "outputs": [
    {
     "data": {
      "text/plain": [
       "array([1., 1., 1., 1.])"
      ]
     },
     "execution_count": 10,
     "metadata": {},
     "output_type": "execute_result"
    }
   ],
   "source": [
    "np.ones(4)\n"
   ]
  },
  {
   "cell_type": "code",
   "execution_count": 11,
   "id": "3057eb63",
   "metadata": {},
   "outputs": [
    {
     "data": {
      "text/plain": [
       "array([[8., 8., 8., 8., 8.],\n",
       "       [8., 8., 8., 8., 8.],\n",
       "       [8., 8., 8., 8., 8.],\n",
       "       [8., 8., 8., 8., 8.]])"
      ]
     },
     "execution_count": 11,
     "metadata": {},
     "output_type": "execute_result"
    }
   ],
   "source": [
    "np.ones((4,5))\n",
    "np.ones((4,5))*8"
   ]
  },
  {
   "cell_type": "code",
   "execution_count": 12,
   "id": "038452ff",
   "metadata": {},
   "outputs": [
    {
     "data": {
      "text/plain": [
       "array([ 0. ,  2.5,  5. ,  7.5, 10. ])"
      ]
     },
     "execution_count": 12,
     "metadata": {},
     "output_type": "execute_result"
    }
   ],
   "source": [
    "np.linspace(0,10,5)"
   ]
  },
  {
   "cell_type": "code",
   "execution_count": 13,
   "id": "8d8acdef",
   "metadata": {},
   "outputs": [],
   "source": [
    "#rastgele dizi oluşturma metotları-> np.random"
   ]
  },
  {
   "cell_type": "code",
   "execution_count": 14,
   "id": "79b20088",
   "metadata": {},
   "outputs": [
    {
     "data": {
      "text/plain": [
       "array([[0.40737659, 0.33743688, 0.96483463, 0.22555108, 0.52323711,\n",
       "        0.50613369],\n",
       "       [0.7808369 , 0.82983668, 0.05488162, 0.53880051, 0.14853934,\n",
       "        0.50689836],\n",
       "       [0.46971813, 0.13893168, 0.57267001, 0.79232904, 0.41391182,\n",
       "        0.50977923],\n",
       "       [0.85953171, 0.44759052, 0.53451824, 0.32224246, 0.37319338,\n",
       "        0.05533608],\n",
       "       [0.14405313, 0.02808176, 0.13319661, 0.64179735, 0.73416439,\n",
       "        0.35003888]])"
      ]
     },
     "execution_count": 14,
     "metadata": {},
     "output_type": "execute_result"
    }
   ],
   "source": [
    "np.random.rand(5,6)\n"
   ]
  },
  {
   "cell_type": "code",
   "execution_count": 15,
   "id": "db40c10c",
   "metadata": {},
   "outputs": [
    {
     "data": {
      "text/plain": [
       "array([[1., 0., 0., 0.],\n",
       "       [0., 1., 0., 0.],\n",
       "       [0., 0., 1., 0.],\n",
       "       [0., 0., 0., 1.]])"
      ]
     },
     "execution_count": 15,
     "metadata": {},
     "output_type": "execute_result"
    }
   ],
   "source": [
    "np.eye(4)"
   ]
  },
  {
   "cell_type": "code",
   "execution_count": 16,
   "id": "39cc664d",
   "metadata": {},
   "outputs": [],
   "source": [
    "np.random.seed(5)"
   ]
  },
  {
   "cell_type": "code",
   "execution_count": 17,
   "id": "3b4a8c2d",
   "metadata": {},
   "outputs": [
    {
     "data": {
      "text/plain": [
       "array([79, 62, 17, 74,  9, 63, 28, 31, 81,  8])"
      ]
     },
     "execution_count": 17,
     "metadata": {},
     "output_type": "execute_result"
    }
   ],
   "source": [
    "np.random.randint(1,100,10) # 1 ile 100 arasında 10 sayı"
   ]
  },
  {
   "cell_type": "code",
   "execution_count": 18,
   "id": "935653a3",
   "metadata": {},
   "outputs": [],
   "source": [
    "x = np.arange(25)"
   ]
  },
  {
   "cell_type": "code",
   "execution_count": 19,
   "id": "d682a3cb",
   "metadata": {},
   "outputs": [
    {
     "data": {
      "text/plain": [
       "array([ 0,  1,  2,  3,  4,  5,  6,  7,  8,  9, 10, 11, 12, 13, 14, 15, 16,\n",
       "       17, 18, 19, 20, 21, 22, 23, 24])"
      ]
     },
     "execution_count": 19,
     "metadata": {},
     "output_type": "execute_result"
    }
   ],
   "source": [
    "x"
   ]
  },
  {
   "cell_type": "code",
   "execution_count": 20,
   "id": "c1d16924",
   "metadata": {},
   "outputs": [
    {
     "data": {
      "text/plain": [
       "array([[ 0,  1,  2,  3,  4],\n",
       "       [ 5,  6,  7,  8,  9],\n",
       "       [10, 11, 12, 13, 14],\n",
       "       [15, 16, 17, 18, 19],\n",
       "       [20, 21, 22, 23, 24]])"
      ]
     },
     "execution_count": 20,
     "metadata": {},
     "output_type": "execute_result"
    }
   ],
   "source": [
    "x.reshape(5,5)"
   ]
  },
  {
   "cell_type": "code",
   "execution_count": 21,
   "id": "47701111",
   "metadata": {},
   "outputs": [],
   "source": [
    "x =np.arange(10)\n"
   ]
  },
  {
   "cell_type": "code",
   "execution_count": 22,
   "id": "2b598bc3",
   "metadata": {},
   "outputs": [
    {
     "data": {
      "text/plain": [
       "array([0, 1, 2, 3, 4, 5, 6, 7, 8, 9])"
      ]
     },
     "execution_count": 22,
     "metadata": {},
     "output_type": "execute_result"
    }
   ],
   "source": [
    "x"
   ]
  },
  {
   "cell_type": "code",
   "execution_count": 23,
   "id": "f6741128",
   "metadata": {},
   "outputs": [
    {
     "data": {
      "text/plain": [
       "5"
      ]
     },
     "execution_count": 23,
     "metadata": {},
     "output_type": "execute_result"
    }
   ],
   "source": [
    "x[5]"
   ]
  },
  {
   "cell_type": "code",
   "execution_count": 24,
   "id": "467dc5d6",
   "metadata": {},
   "outputs": [
    {
     "data": {
      "text/plain": [
       "array([2, 3, 4, 5, 6])"
      ]
     },
     "execution_count": 24,
     "metadata": {},
     "output_type": "execute_result"
    }
   ],
   "source": [
    "x[2:7]"
   ]
  },
  {
   "cell_type": "code",
   "execution_count": 25,
   "id": "5d27c849",
   "metadata": {},
   "outputs": [
    {
     "data": {
      "text/plain": [
       "array([0, 1, 2, 3, 4])"
      ]
     },
     "execution_count": 25,
     "metadata": {},
     "output_type": "execute_result"
    }
   ],
   "source": [
    "x[:5]"
   ]
  },
  {
   "cell_type": "code",
   "execution_count": 26,
   "id": "e9da3030",
   "metadata": {},
   "outputs": [],
   "source": [
    "x2 = x[:5] #ilk bes elemanı aldık\n",
    "\n"
   ]
  },
  {
   "cell_type": "code",
   "execution_count": 27,
   "id": "39a2de43",
   "metadata": {},
   "outputs": [
    {
     "data": {
      "text/plain": [
       "array([0, 1, 2, 3, 4])"
      ]
     },
     "execution_count": 27,
     "metadata": {},
     "output_type": "execute_result"
    }
   ],
   "source": [
    "x2\n"
   ]
  },
  {
   "cell_type": "code",
   "execution_count": 28,
   "id": "8157a522",
   "metadata": {},
   "outputs": [
    {
     "data": {
      "text/plain": [
       "array([55, 55, 55, 55, 55,  5,  6,  7,  8,  9])"
      ]
     },
     "execution_count": 28,
     "metadata": {},
     "output_type": "execute_result"
    }
   ],
   "source": [
    "x2[:] = 55 #dizideki tüm elemanlar secilir\n",
    "x"
   ]
  },
  {
   "cell_type": "code",
   "execution_count": 29,
   "id": "eebf9a2c",
   "metadata": {},
   "outputs": [
    {
     "data": {
      "text/plain": [
       "array([55, 55, 55, 55, 55])"
      ]
     },
     "execution_count": 29,
     "metadata": {},
     "output_type": "execute_result"
    }
   ],
   "source": [
    "x2 # ilk bes eleman artık 55"
   ]
  },
  {
   "cell_type": "markdown",
   "id": "3dd85bcd",
   "metadata": {},
   "source": [
    "Numpy'ın bunu yapmasının sebebi cok buyuk dizilerde hafiza sorunun gidermek istemesi"
   ]
  },
  {
   "cell_type": "code",
   "execution_count": 30,
   "id": "07be43e2",
   "metadata": {},
   "outputs": [
    {
     "data": {
      "text/plain": [
       "array([55, 55, 55, 55, 55,  5,  6,  7,  8,  9])"
      ]
     },
     "execution_count": 30,
     "metadata": {},
     "output_type": "execute_result"
    }
   ],
   "source": [
    "x"
   ]
  },
  {
   "cell_type": "markdown",
   "id": "44116ac4",
   "metadata": {},
   "source": [
    "yeni dizide yaptığımız degisiklik ana dizini etkilemesin istiyorsak asagidaki gibi yapmaliyiz"
   ]
  },
  {
   "cell_type": "code",
   "execution_count": 31,
   "id": "c13e4f44",
   "metadata": {},
   "outputs": [],
   "source": [
    "x_copy =x.copy()"
   ]
  },
  {
   "cell_type": "code",
   "execution_count": 32,
   "id": "9357b9eb",
   "metadata": {},
   "outputs": [
    {
     "data": {
      "text/plain": [
       "array([55, 55, 55, 55, 55,  5,  6,  7,  8,  9])"
      ]
     },
     "execution_count": 32,
     "metadata": {},
     "output_type": "execute_result"
    }
   ],
   "source": [
    "x"
   ]
  },
  {
   "cell_type": "code",
   "execution_count": 33,
   "id": "c506d9a0",
   "metadata": {},
   "outputs": [],
   "source": [
    "x_copy[:] = 66 #simdi x_copy nin tüm elemanlarını secip 66 yapalaım\n"
   ]
  },
  {
   "cell_type": "code",
   "execution_count": 34,
   "id": "9bc38c60",
   "metadata": {},
   "outputs": [
    {
     "data": {
      "text/plain": [
       "array([66, 66, 66, 66, 66, 66, 66, 66, 66, 66])"
      ]
     },
     "execution_count": 34,
     "metadata": {},
     "output_type": "execute_result"
    }
   ],
   "source": [
    "x_copy"
   ]
  },
  {
   "cell_type": "code",
   "execution_count": 35,
   "id": "4826f248",
   "metadata": {},
   "outputs": [
    {
     "data": {
      "text/plain": [
       "array([55, 55, 55, 55, 55,  5,  6,  7,  8,  9])"
      ]
     },
     "execution_count": 35,
     "metadata": {},
     "output_type": "execute_result"
    }
   ],
   "source": [
    "x #ana dizin olan x etkilenmedi"
   ]
  },
  {
   "cell_type": "code",
   "execution_count": 39,
   "id": "b830c78d",
   "metadata": {},
   "outputs": [
    {
     "data": {
      "text/plain": [
       "array([0, 1, 2, 3, 4, 5, 6, 7, 8, 9])"
      ]
     },
     "execution_count": 39,
     "metadata": {},
     "output_type": "execute_result"
    }
   ],
   "source": [
    "x = np.arange(10)\n",
    "x"
   ]
  },
  {
   "cell_type": "code",
   "execution_count": 40,
   "id": "63605d33",
   "metadata": {},
   "outputs": [
    {
     "data": {
      "text/plain": [
       "array([ True,  True,  True,  True,  True, False, False, False, False,\n",
       "       False])"
      ]
     },
     "execution_count": 40,
     "metadata": {},
     "output_type": "execute_result"
    }
   ],
   "source": [
    "x<5"
   ]
  },
  {
   "cell_type": "code",
   "execution_count": 41,
   "id": "74621183",
   "metadata": {},
   "outputs": [],
   "source": [
    "bool_x = x<5"
   ]
  },
  {
   "cell_type": "code",
   "execution_count": 42,
   "id": "ad5342db",
   "metadata": {},
   "outputs": [
    {
     "data": {
      "text/plain": [
       "array([ True,  True,  True,  True,  True, False, False, False, False,\n",
       "       False])"
      ]
     },
     "execution_count": 42,
     "metadata": {},
     "output_type": "execute_result"
    }
   ],
   "source": [
    "bool_x"
   ]
  },
  {
   "cell_type": "code",
   "execution_count": 43,
   "id": "f6f57cc8",
   "metadata": {},
   "outputs": [
    {
     "data": {
      "text/plain": [
       "array([0, 1, 2, 3, 4])"
      ]
     },
     "execution_count": 43,
     "metadata": {},
     "output_type": "execute_result"
    }
   ],
   "source": [
    "x[bool_x] # x dizisi icerisinde karsilastirma yaptık"
   ]
  },
  {
   "cell_type": "code",
   "execution_count": 44,
   "id": "5507e5e9",
   "metadata": {},
   "outputs": [
    {
     "data": {
      "text/plain": [
       "array([6, 7, 8, 9])"
      ]
     },
     "execution_count": 44,
     "metadata": {},
     "output_type": "execute_result"
    }
   ],
   "source": [
    "x[x>5]"
   ]
  },
  {
   "cell_type": "code",
   "execution_count": 45,
   "id": "24868ed3",
   "metadata": {},
   "outputs": [
    {
     "data": {
      "text/plain": [
       "array([0, 1, 2, 3, 4])"
      ]
     },
     "execution_count": 45,
     "metadata": {},
     "output_type": "execute_result"
    }
   ],
   "source": [
    "x[x<5]"
   ]
  },
  {
   "cell_type": "code",
   "execution_count": null,
   "id": "65bc94c2",
   "metadata": {},
   "outputs": [],
   "source": []
  }
 ],
 "metadata": {
  "kernelspec": {
   "display_name": "Python 3 (ipykernel)",
   "language": "python",
   "name": "python3"
  },
  "language_info": {
   "codemirror_mode": {
    "name": "ipython",
    "version": 3
   },
   "file_extension": ".py",
   "mimetype": "text/x-python",
   "name": "python",
   "nbconvert_exporter": "python",
   "pygments_lexer": "ipython3",
   "version": "3.9.13"
  }
 },
 "nbformat": 4,
 "nbformat_minor": 5
}
