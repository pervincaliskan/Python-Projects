{
 "cells": [
  {
   "cell_type": "code",
   "execution_count": 1,
   "id": "368f6838",
   "metadata": {},
   "outputs": [],
   "source": [
    "from nltk.stem import WordNetLemmatizer #stemming den farklı olarak kelime kökü alma yöntemi"
   ]
  },
  {
   "cell_type": "code",
   "execution_count": 3,
   "id": "0798a330",
   "metadata": {},
   "outputs": [],
   "source": [
    "lem = WordNetLemmatizer()"
   ]
  },
  {
   "cell_type": "code",
   "execution_count": 4,
   "id": "dee66d35",
   "metadata": {},
   "outputs": [],
   "source": [
    "words = ['drive', 'driving', 'driver', 'drives', 'drove', 'cats', 'children']"
   ]
  },
  {
   "cell_type": "code",
   "execution_count": 5,
   "id": "3fd65015",
   "metadata": {},
   "outputs": [
    {
     "name": "stdout",
     "output_type": "stream",
     "text": [
      "drive\n",
      "driving\n",
      "driver\n",
      "drive\n",
      "drove\n",
      "cat\n",
      "child\n"
     ]
    }
   ],
   "source": [
    "for w in words:\n",
    "    print(lem.lemmatize(w)) #stemming de sadece kelime snlarından ek atar, lemmatizer da ise asağıdaki gibi kelimenin söz"
   ]
  },
  {
   "cell_type": "code",
   "execution_count": 6,
   "id": "250bfddd",
   "metadata": {},
   "outputs": [
    {
     "data": {
      "text/plain": [
       "'drive'"
      ]
     },
     "execution_count": 6,
     "metadata": {},
     "output_type": "execute_result"
    }
   ],
   "source": [
    "lem.lemmatize('drove', 'v') "
   ]
  },
  {
   "cell_type": "code",
   "execution_count": null,
   "id": "d5460e01",
   "metadata": {},
   "outputs": [],
   "source": []
  }
 ],
 "metadata": {
  "kernelspec": {
   "display_name": "Python 3 (ipykernel)",
   "language": "python",
   "name": "python3"
  },
  "language_info": {
   "codemirror_mode": {
    "name": "ipython",
    "version": 3
   },
   "file_extension": ".py",
   "mimetype": "text/x-python",
   "name": "python",
   "nbconvert_exporter": "python",
   "pygments_lexer": "ipython3",
   "version": "3.9.13"
  }
 },
 "nbformat": 4,
 "nbformat_minor": 5
}
