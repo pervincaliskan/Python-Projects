{
 "cells": [
  {
   "cell_type": "markdown",
   "id": "e7d798bc",
   "metadata": {},
   "source": [
    "bir kelimenin kökünü almaya stemming diyoruz"
   ]
  },
  {
   "cell_type": "code",
   "execution_count": 1,
   "id": "43fb049c",
   "metadata": {},
   "outputs": [],
   "source": [
    "from nltk.stem import PorterStemmer #porterstemmer bir yöntemdir farklı yöntemler de kullanılabilir"
   ]
  },
  {
   "cell_type": "code",
   "execution_count": 2,
   "id": "47781f8a",
   "metadata": {},
   "outputs": [],
   "source": [
    "ps = PorterStemmer()"
   ]
  },
  {
   "cell_type": "code",
   "execution_count": 3,
   "id": "67a217f6",
   "metadata": {},
   "outputs": [],
   "source": [
    "words = ['drive', 'driving', 'driver', 'drives', 'drove', 'cats', 'children'] #stemmer islemi için bir liste olusturduk"
   ]
  },
  {
   "cell_type": "code",
   "execution_count": 4,
   "id": "72dfb00f",
   "metadata": {},
   "outputs": [
    {
     "name": "stdout",
     "output_type": "stream",
     "text": [
      "drive\n",
      "drive\n",
      "driver\n",
      "drive\n",
      "drove\n",
      "cat\n",
      "children\n"
     ]
    }
   ],
   "source": [
    "for w in words:\n",
    "    print(ps.stem(w))"
   ]
  },
  {
   "cell_type": "markdown",
   "id": "78fe1cf3",
   "metadata": {},
   "source": [
    "drive zaten bir köktü, driver drive dan türese de kendi başına başka bir ifade olduğu için driver olarak kalır.anlam kaybı yaşamadı böylece."
   ]
  },
  {
   "cell_type": "code",
   "execution_count": null,
   "id": "14b06871",
   "metadata": {},
   "outputs": [],
   "source": []
  }
 ],
 "metadata": {
  "kernelspec": {
   "display_name": "Python 3 (ipykernel)",
   "language": "python",
   "name": "python3"
  },
  "language_info": {
   "codemirror_mode": {
    "name": "ipython",
    "version": 3
   },
   "file_extension": ".py",
   "mimetype": "text/x-python",
   "name": "python",
   "nbconvert_exporter": "python",
   "pygments_lexer": "ipython3",
   "version": "3.9.13"
  }
 },
 "nbformat": 4,
 "nbformat_minor": 5
}
