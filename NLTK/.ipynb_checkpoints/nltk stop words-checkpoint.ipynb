{
 "cells": [
  {
   "cell_type": "code",
   "execution_count": 1,
   "id": "65138e0e",
   "metadata": {},
   "outputs": [],
   "source": [
    "from nltk.corpus import stopwords # nlp de kullanılan metne corpus deriz\n",
    "from nltk.tokenize import word_tokenize #tokenlestirme için tokenize ı import ederiz"
   ]
  },
  {
   "cell_type": "markdown",
   "id": "d7a87342",
   "metadata": {},
   "source": [
    "veri analizine başlamadan önce ön analiz islemleri yapmamaız gerekir.Nltk kütüphanesi de bu işleme yarıyor. Ön işlemlerden birisi de stop words dür. bir ifadesi olmayan kelimer için tercih ederiz. ingilizce de the, a , an gibi.."
   ]
  },
  {
   "cell_type": "code",
   "execution_count": 2,
   "id": "f7c7bcd3",
   "metadata": {},
   "outputs": [],
   "source": [
    "text = 'Fazıl Say is a Turkish pianist and composer who was born in Ankara, described recently as \"not merely a pianist of genius; but undoubtedly he will be one of the great artists of the twenty-first century\".'"
   ]
  },
  {
   "cell_type": "code",
   "execution_count": 4,
   "id": "23f5947f",
   "metadata": {},
   "outputs": [],
   "source": [
    "stopwords = stopwords.words('english') "
   ]
  },
  {
   "cell_type": "code",
   "execution_count": 5,
   "id": "6332fd7f",
   "metadata": {},
   "outputs": [],
   "source": [
    "words = word_tokenize(text) #text i tokenlere ayırıp words e atadık"
   ]
  },
  {
   "cell_type": "code",
   "execution_count": 6,
   "id": "12719ca1",
   "metadata": {},
   "outputs": [],
   "source": [
    "filtered_words = [] #bos listeye filtredegimiz tokenleri atayacagız\n",
    "for word in words:\n",
    "    if word not in stopwords:\n",
    "        filtered_words.append(word) #stopwords olmayanları listeye ekleriz"
   ]
  },
  {
   "cell_type": "code",
   "execution_count": 7,
   "id": "c7d15122",
   "metadata": {},
   "outputs": [
    {
     "data": {
      "text/plain": [
       "['Fazıl',\n",
       " 'Say',\n",
       " 'Turkish',\n",
       " 'pianist',\n",
       " 'composer',\n",
       " 'born',\n",
       " 'Ankara',\n",
       " ',',\n",
       " 'described',\n",
       " 'recently',\n",
       " '``',\n",
       " 'merely',\n",
       " 'pianist',\n",
       " 'genius',\n",
       " ';',\n",
       " 'undoubtedly',\n",
       " 'one',\n",
       " 'great',\n",
       " 'artists',\n",
       " 'twenty-first',\n",
       " 'century',\n",
       " \"''\",\n",
       " '.']"
      ]
     },
     "execution_count": 7,
     "metadata": {},
     "output_type": "execute_result"
    }
   ],
   "source": [
    "filtered_words"
   ]
  },
  {
   "cell_type": "code",
   "execution_count": null,
   "id": "567e8abd",
   "metadata": {},
   "outputs": [],
   "source": []
  }
 ],
 "metadata": {
  "kernelspec": {
   "display_name": "Python 3 (ipykernel)",
   "language": "python",
   "name": "python3"
  },
  "language_info": {
   "codemirror_mode": {
    "name": "ipython",
    "version": 3
   },
   "file_extension": ".py",
   "mimetype": "text/x-python",
   "name": "python",
   "nbconvert_exporter": "python",
   "pygments_lexer": "ipython3",
   "version": "3.9.13"
  }
 },
 "nbformat": 4,
 "nbformat_minor": 5
}
