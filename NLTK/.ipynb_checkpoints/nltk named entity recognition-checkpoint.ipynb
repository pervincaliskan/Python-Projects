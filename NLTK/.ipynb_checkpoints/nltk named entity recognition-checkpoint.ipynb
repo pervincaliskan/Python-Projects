{
 "cells": [
  {
   "cell_type": "markdown",
   "id": "b0864d79",
   "metadata": {},
   "source": [
    "örnegin elimideki metinde kişi ve organizasyon isimlerini bulmak istersek bu yöntemi kullanabiliriz"
   ]
  },
  {
   "cell_type": "code",
   "execution_count": 1,
   "id": "c00b39d5",
   "metadata": {},
   "outputs": [],
   "source": [
    "import nltk"
   ]
  },
  {
   "cell_type": "code",
   "execution_count": 2,
   "id": "96ac9354",
   "metadata": {},
   "outputs": [],
   "source": [
    "text = \"Steve Jobs was an American entrepreneur and business magnate. He was the chairman, chief executive officer (CEO), and a co-founder of Apple Inc., chairman and majority shareholder of Pixar, a member of The Walt Disney Company's board of directors following its acquisition of Pixar, and the founder, chairman, and CEO of NeXT. Jobs is widely recognized as a pioneer of the microcomputer revolution of the 1970s and 1980s, along with Apple co-founder Steve Wozniak. \""
   ]
  },
  {
   "cell_type": "code",
   "execution_count": 3,
   "id": "9315c07b",
   "metadata": {},
   "outputs": [],
   "source": [
    "tokenized = nltk.word_tokenize(text)"
   ]
  },
  {
   "cell_type": "code",
   "execution_count": 4,
   "id": "04ece5b3",
   "metadata": {},
   "outputs": [],
   "source": [
    "tagged = nltk.pos_tag(tokenized) #elimizdeki metni önce ögelerine ayırdık"
   ]
  },
  {
   "cell_type": "code",
   "execution_count": 5,
   "id": "86534538",
   "metadata": {},
   "outputs": [],
   "source": [
    "named_ent = nltk.ne_chunk(tagged) # bu sekilde named entity rec. yapmis olduk"
   ]
  },
  {
   "cell_type": "code",
   "execution_count": 6,
   "id": "4d0874ea",
   "metadata": {},
   "outputs": [],
   "source": [
    "named_ent.draw() # ağaç seklinde yeni pencerede bize gösterir"
   ]
  },
  {
   "cell_type": "code",
   "execution_count": 7,
   "id": "11a0dda5",
   "metadata": {},
   "outputs": [
    {
     "data": {
      "text/plain": [
       "'\\nNE Türü         \\tÖrnek\\nORGANIZATION    \\tGeorgia-Pacific Corp., WHO\\nPERSON          \\tEddy Bonte, President Obama\\nLOCATION        \\tMurray River, Mount Everest\\nDATE            \\tJune, 2008-06-29\\nTIME            \\ttwo fifty a m, 1:30 p.m.\\nMONEY           \\t175 million Canadian Dollars, GBP 10.40\\nPERCENT         \\ttwenty pct, 18.75 %\\nFACILITY        \\tWashington Monument, Stonehenge\\nGPE             \\tSouth East Asia, Midlothian\\n'"
      ]
     },
     "execution_count": 7,
     "metadata": {},
     "output_type": "execute_result"
    }
   ],
   "source": [
    "\"\"\"\n",
    "NE Türü         \tÖrnek\n",
    "ORGANIZATION    \tGeorgia-Pacific Corp., WHO\n",
    "PERSON          \tEddy Bonte, President Obama\n",
    "LOCATION        \tMurray River, Mount Everest\n",
    "DATE            \tJune, 2008-06-29\n",
    "TIME            \ttwo fifty a m, 1:30 p.m.\n",
    "MONEY           \t175 million Canadian Dollars, GBP 10.40\n",
    "PERCENT         \ttwenty pct, 18.75 %\n",
    "FACILITY        \tWashington Monument, Stonehenge\n",
    "GPE             \tSouth East Asia, Midlothian\n",
    "\"\"\""
   ]
  },
  {
   "cell_type": "code",
   "execution_count": null,
   "id": "a36aaab4",
   "metadata": {},
   "outputs": [],
   "source": []
  }
 ],
 "metadata": {
  "kernelspec": {
   "display_name": "Python 3 (ipykernel)",
   "language": "python",
   "name": "python3"
  },
  "language_info": {
   "codemirror_mode": {
    "name": "ipython",
    "version": 3
   },
   "file_extension": ".py",
   "mimetype": "text/x-python",
   "name": "python",
   "nbconvert_exporter": "python",
   "pygments_lexer": "ipython3",
   "version": "3.9.13"
  }
 },
 "nbformat": 4,
 "nbformat_minor": 5
}
